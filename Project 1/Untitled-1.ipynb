{
 "cells": [
  {
   "cell_type": "markdown",
   "metadata": {},
   "source": [
    "# Importowanie bibliotek\n",
    "Zaimportuj wszystkie wymagane biblioteki, takie jak numpy, pandas, matplotlib, itp."
   ]
  },
  {
   "cell_type": "code",
   "execution_count": null,
   "metadata": {},
   "outputs": [],
   "source": [
    "# Importowanie bibliotek\n",
    "import numpy as np\n",
    "import pandas as pd\n",
    "import matplotlib.pyplot as plt\n",
    "import os\n",
    "import sys"
   ]
  },
  {
   "cell_type": "markdown",
   "metadata": {},
   "source": [
    "# Funkcje z folderu Task1\n",
    "Skopiuj i wklej wszystkie funkcje z folderu Task1 do tego notebooka."
   ]
  },
  {
   "cell_type": "code",
   "execution_count": null,
   "metadata": {},
   "outputs": [],
   "source": [
    "# Funkcje z folderu Task1\n",
    "\n",
    "def funkcja1(param1, param2):\n",
    "    \"\"\"\n",
    "    Przykładowa funkcja 1 z folderu Task1.\n",
    "    \"\"\"\n",
    "    wynik = param1 + param2\n",
    "    return wynik\n",
    "\n",
    "def funkcja2(lista):\n",
    "    \"\"\"\n",
    "    Przykładowa funkcja 2 z folderu Task1.\n",
    "    \"\"\"\n",
    "    return [x**2 for x in lista]\n",
    "\n",
    "def funkcja3(macierz):\n",
    "    \"\"\"\n",
    "    Przykładowa funkcja 3 z folderu Task1.\n",
    "    \"\"\"\n",
    "    return np.linalg.inv(macierz)\n",
    "\n",
    "def funkcja4(dataframe, kolumna):\n",
    "    \"\"\"\n",
    "    Przykładowa funkcja 4 z folderu Task1.\n",
    "    \"\"\"\n",
    "    return dataframe[kolumna].mean()\n",
    "\n",
    "def funkcja5(sciezka):\n",
    "    \"\"\"\n",
    "    Przykładowa funkcja 5 z folderu Task1.\n",
    "    \"\"\"\n",
    "    with open(sciezka, 'r') as plik:\n",
    "        dane = plik.read()\n",
    "    return dane"
   ]
  },
  {
   "cell_type": "markdown",
   "metadata": {},
   "source": [
    "# Kod używany w Task3\n",
    "Dodaj kod z Task3, który wykorzystuje funkcje z Task1, aby zapewnić pełną funkcjonalność."
   ]
  },
  {
   "cell_type": "code",
   "execution_count": null,
   "metadata": {},
   "outputs": [],
   "source": [
    "# Kod używany w Task3\n",
    "\n",
    "# Przykład użycia funkcji funkcja1\n",
    "wynik1 = funkcja1(10, 20)\n",
    "print(f\"Wynik funkcji funkcja1: {wynik1}\")\n",
    "\n",
    "# Przykład użycia funkcji funkcja2\n",
    "lista = [1, 2, 3, 4, 5]\n",
    "wynik2 = funkcja2(lista)\n",
    "print(f\"Wynik funkcji funkcja2: {wynik2}\")\n",
    "\n",
    "# Przykład użycia funkcji funkcja3\n",
    "macierz = np.array([[1, 2], [3, 4]])\n",
    "wynik3 = funkcja3(macierz)\n",
    "print(f\"Wynik funkcji funkcja3:\\n{wynik3}\")\n",
    "\n",
    "# Przykład użycia funkcji funkcja4\n",
    "data = {'kolumna1': [10, 20, 30, 40], 'kolumna2': [5, 15, 25, 35]}\n",
    "df = pd.DataFrame(data)\n",
    "wynik4 = funkcja4(df, 'kolumna1')\n",
    "print(f\"Wynik funkcji funkcja4: {wynik4}\")\n",
    "\n",
    "# Przykład użycia funkcji funkcja5\n",
    "# Zakładamy, że plik 'example.txt' istnieje w folderze Task1\n",
    "sciezka_pliku = os.path.join('Task1', 'example.txt')\n",
    "if os.path.exists(sciezka_pliku):\n",
    "    wynik5 = funkcja5(sciezka_pliku)\n",
    "    print(f\"Wynik funkcji funkcja5:\\n{wynik5}\")\n",
    "else:\n",
    "    print(f\"Plik {sciezka_pliku} nie istnieje.\")"
   ]
  }
 ],
 "metadata": {
  "language_info": {
   "name": "python"
  }
 },
 "nbformat": 4,
 "nbformat_minor": 2
}
