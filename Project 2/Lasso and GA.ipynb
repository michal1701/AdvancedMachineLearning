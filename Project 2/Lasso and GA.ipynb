{
 "cells": [
  {
   "cell_type": "code",
   "execution_count": 1,
   "id": "971b3ead-ba32-4321-9fda-4120bd3fb80e",
   "metadata": {},
   "outputs": [],
   "source": [
    "import os\n",
    "import time\n",
    "import random\n",
    "\n",
    "import numpy as np\n",
    "import pandas as pd\n",
    "\n",
    "from tqdm import trange, tqdm\n",
    "\n",
    "from sklearn.linear_model import LogisticRegression\n",
    "from sklearn.metrics import accuracy_score\n",
    "from sklearn.preprocessing import StandardScaler\n",
    "from sklearn.metrics import accuracy_score, precision_score, recall_score\n",
    "\n",
    "np.random.seed(666)"
   ]
  },
  {
   "cell_type": "code",
   "execution_count": 2,
   "id": "44f766fb-529f-4fb2-98e2-1aa0c8b532fe",
   "metadata": {},
   "outputs": [],
   "source": [
    "def prettify_duration(duration_seconds):\n",
    "    s = duration_seconds % 60\n",
    "    duration_in_minutes = (duration_seconds - s) // 60\n",
    "    m = duration_in_minutes % 60\n",
    "    h = (duration_in_minutes - m) // 60\n",
    "\n",
    "    return f\"{h}h {m}m {s}s\""
   ]
  },
  {
   "cell_type": "code",
   "execution_count": 3,
   "id": "c8338d66-a246-4c95-9069-e38e8f6faa27",
   "metadata": {},
   "outputs": [],
   "source": [
    "X_train_df = pd.read_table(os.path.join(os.getcwd(), \"data\", \"x_train.txt\"), header=None, sep=\" \")\n",
    "y_train_df = pd.read_table(os.path.join(os.getcwd(), \"data\", \"y_train.txt\"), header=None)\n",
    "X_test_df = pd.read_table(os.path.join(os.getcwd(), \"data\", \"x_test.txt\"), header=None, sep=\" \")"
   ]
  },
  {
   "cell_type": "code",
   "execution_count": 4,
   "id": "365d2315-2ad5-47ae-aaea-fb30a499add0",
   "metadata": {},
   "outputs": [],
   "source": [
    "X_train = X_train_df.values\n",
    "X_train_scaled = StandardScaler().fit_transform(X_train)\n",
    "y_train = y_train_df.values.flatten()\n",
    "X_test = X_test_df.values"
   ]
  },
  {
   "cell_type": "code",
   "execution_count": 5,
   "id": "7bdeb565-55be-447e-8797-890bbd67ad46",
   "metadata": {},
   "outputs": [],
   "source": [
    "def calculate_reward(model, X, y):\n",
    "    probabilities_of_label_1 = model.predict_proba(X)[:, 1]\n",
    "    s = np.argsort(probabilities_of_label_1)\n",
    "                  \n",
    "    income = (np.round(probabilities_of_label_1[s[-1000:]]) == y[s[-1000:]]).sum() * 10\n",
    "    cost = model.n_features_in_ * 200\n",
    "\n",
    "    return income - cost"
   ]
  },
  {
   "cell_type": "code",
   "execution_count": 6,
   "id": "993a960f-d408-45d0-af83-1fdc41e58789",
   "metadata": {},
   "outputs": [],
   "source": [
    "class Lasso:\n",
    "    def __init__(self, X, y):\n",
    "        self.stdsc = StandardScaler().fit(X)\n",
    "        \n",
    "        self.X = self.stdsc.transform(X)\n",
    "        self.y = y\n",
    "        \n",
    "        self.best_C = None\n",
    "        self.best_features = None\n",
    "\n",
    "        return\n",
    "\n",
    "    def fit(self):\n",
    "        best_reward = float(\"-inf\")\n",
    "        selected_features = np.arange(self.X.shape[1])\n",
    "        \n",
    "        for C in tqdm(np.linspace(1, 0.001, 1000)):\n",
    "            model = LogisticRegression(penalty=\"l1\", solver=\"liblinear\", C=C).fit(self.X[:, selected_features], self.y)\n",
    "\n",
    "            reward = calculate_reward(model, self.X[:, selected_features], self.y)\n",
    "        \n",
    "            selected_features = np.argwhere(model.coef_.flatten() != 0).flatten()\n",
    "            \n",
    "            if best_reward < reward:\n",
    "                best_reward = reward\n",
    "                \n",
    "                self.best_C = C\n",
    "                self.best_features = selected_features\n",
    "\n",
    "        return self\n",
    "\n",
    "    def get_best_model(self):\n",
    "        return LogisticRegression(penalty=\"l1\", solver=\"liblinear\", C=self.best_C).fit(self.X[:, self.best_features], self.y)\n",
    "\n",
    "    def predict(self, X):\n",
    "        X = self.stdsc.transform(X)\n",
    "        model = self.get_best_model()\n",
    "\n",
    "        probabilities_of_label_1 = model.predict_proba(X[:, self.best_features])[:, 1]\n",
    "        s = np.argsort(probabilities_of_label_1)\n",
    "\n",
    "        return s[-1000:]        "
   ]
  },
  {
   "cell_type": "code",
   "execution_count": 7,
   "id": "cacc6001-cecf-4219-bde6-ed52ff16b8ff",
   "metadata": {},
   "outputs": [
    {
     "name": "stderr",
     "output_type": "stream",
     "text": [
      "100%|███████████████████████████████████████████████████████████████████████████████████████████████████████████████████████████████████████████████████████████████████████████████████████████████████| 1000/1000 [05:19<00:00,  3.13it/s]\n"
     ]
    }
   ],
   "source": [
    "lasso = Lasso(X_train, y_train).fit()"
   ]
  },
  {
   "cell_type": "code",
   "execution_count": 8,
   "id": "a7c0d829-a834-4601-b469-094a8cb33752",
   "metadata": {},
   "outputs": [
    {
     "data": {
      "text/plain": [
       "array([0, 1])"
      ]
     },
     "execution_count": 8,
     "metadata": {},
     "output_type": "execute_result"
    }
   ],
   "source": [
    "lasso.best_features"
   ]
  },
  {
   "cell_type": "code",
   "execution_count": 9,
   "id": "c48f7c42-9c06-487f-9b08-f88116cf3de0",
   "metadata": {},
   "outputs": [],
   "source": [
    "pd.DataFrame(lasso.best_features).to_csv(\"solutions/lasso_features_selected.csv\")"
   ]
  },
  {
   "cell_type": "code",
   "execution_count": 10,
   "id": "25691e07-02c7-4c3c-a89d-2b7a667ed6e9",
   "metadata": {},
   "outputs": [],
   "source": [
    "lasso_best_model = lasso.get_best_model()"
   ]
  },
  {
   "cell_type": "code",
   "execution_count": 11,
   "id": "bae9faa0-3dc3-4258-b5ca-05bf399cbb66",
   "metadata": {},
   "outputs": [
    {
     "data": {
      "text/plain": [
       "np.int64(6640)"
      ]
     },
     "execution_count": 11,
     "metadata": {},
     "output_type": "execute_result"
    }
   ],
   "source": [
    "calculate_reward(lasso_best_model, X_train_scaled[:, lasso.best_features], y_train)"
   ]
  },
  {
   "cell_type": "code",
   "execution_count": 12,
   "id": "52434a69-bed2-40be-9509-2d1d7be56696",
   "metadata": {},
   "outputs": [
    {
     "data": {
      "text/plain": [
       "0.6456"
      ]
     },
     "execution_count": 12,
     "metadata": {},
     "output_type": "execute_result"
    }
   ],
   "source": [
    "accuracy_score(y_train, lasso_best_model.predict(X_train_scaled[:, lasso.best_features]))"
   ]
  },
  {
   "cell_type": "code",
   "execution_count": 13,
   "id": "db36bb79-f5c3-4b08-9a53-e641c781b008",
   "metadata": {},
   "outputs": [
    {
     "data": {
      "text/plain": [
       "0.651194231635872"
      ]
     },
     "execution_count": 13,
     "metadata": {},
     "output_type": "execute_result"
    }
   ],
   "source": [
    "precision_score(y_train, lasso_best_model.predict(X_train_scaled[:, lasso.best_features]))"
   ]
  },
  {
   "cell_type": "code",
   "execution_count": 14,
   "id": "3d0eb4ab-15e8-46bc-a07f-a80986b60484",
   "metadata": {},
   "outputs": [
    {
     "data": {
      "text/plain": [
       "0.5914858780188293"
      ]
     },
     "execution_count": 14,
     "metadata": {},
     "output_type": "execute_result"
    }
   ],
   "source": [
    "recall_score(y_train, lasso_best_model.predict(X_train_scaled[:, lasso.best_features]))"
   ]
  },
  {
   "cell_type": "code",
   "execution_count": 15,
   "id": "704c4afa-5ce3-45fd-ae1c-88594f5184ef",
   "metadata": {},
   "outputs": [
    {
     "data": {
      "text/plain": [
       "array([1755, 1651,  978, 4963, 4305, 3505, 3537, 4248, 4744, 4255])"
      ]
     },
     "execution_count": 15,
     "metadata": {},
     "output_type": "execute_result"
    }
   ],
   "source": [
    "lasso_X_test_pred = lasso.predict(X_test)\n",
    "lasso_X_test_pred[:10]"
   ]
  },
  {
   "cell_type": "code",
   "execution_count": 16,
   "id": "e5ac6bb0-b514-4476-a968-b415ff6f527f",
   "metadata": {},
   "outputs": [],
   "source": [
    "pd.DataFrame(lasso_X_test_pred).to_csv(\"solutions/lasso_observations_predicted.csv\")"
   ]
  },
  {
   "cell_type": "code",
   "execution_count": 17,
   "id": "8945bcf6-d81c-4464-b889-552fc3df85de",
   "metadata": {},
   "outputs": [],
   "source": [
    "class GA:\n",
    "    def __init__(self, X, y):\n",
    "        self.stdsc = StandardScaler().fit(X)\n",
    "        \n",
    "        self.X = self.stdsc.transform(X)\n",
    "        self.y = y\n",
    "        \n",
    "        self.target_indexes = np.argwhere(self.y == 1)\n",
    "        \n",
    "        return\n",
    "\n",
    "    def generate_population(self, population_size):\n",
    "        return [np.random.choice(self.X.shape[1], np.random.randint(1, self.X.shape[1] + 1), False) for _ in range(population_size)]\n",
    "\n",
    "    def evaluate_features(self, features):\n",
    "        model = LogisticRegression(penalty=None).fit(self.X[:, features], self.y)\n",
    "\n",
    "        reward = calculate_reward(model, self.X[:, features], self.y)\n",
    "        \n",
    "        return -reward\n",
    "\n",
    "    def get_best_model(self, features):\n",
    "        return LogisticRegression(penalty=None).fit(self.X[:, features], self.y)\n",
    "\n",
    "    def cross_over(self, parent_a, parent_b):\n",
    "        all_indexes = np.unique(np.concatenate((parent_a,parent_b)))\n",
    "        \n",
    "        return (\n",
    "            np.random.choice(all_indexes, np.random.randint(1, len(all_indexes) + 1), False),\n",
    "            np.random.choice(all_indexes, np.random.randint(1, len(all_indexes) + 1), False)\n",
    "        )\n",
    "\n",
    "    def mutate(self, representative):\n",
    "        to_remove = np.random.choice(self.X.shape[1], np.random.randint(1, 5 + 1), False)\n",
    "        to_add = np.random.choice(self.X.shape[1], np.random.randint(1, 5 + 1), False)\n",
    "        \n",
    "        return np.unique(np.union1d(np.setdiff1d(representative, to_remove), to_add))\n",
    "\n",
    "    def run(self, population_size=100, number_of_generations=100, cross_over_prob=0.2, mutation_prob=0.2):\n",
    "        population = self.generate_population(population_size)\n",
    "    \n",
    "        for generation in tqdm(range(number_of_generations)):\n",
    "            ## cross-over\n",
    "            # calculate values of function to optimise\n",
    "            proximities = np.array([self.evaluate_features(features) for features in population])\n",
    "            # and transform them into probabilities\n",
    "            probabilities = self.proximities2probabilities(proximities)\n",
    "            children = []\n",
    "            # try to perform cross-over population_size times\n",
    "            for _ in range(population_size):\n",
    "                # if cross-over chance is successful\n",
    "                if random.random() < cross_over_prob:\n",
    "                    # select two parents for cross-over\n",
    "                    parent_indexes = np.random.choice(len(population), 2, False, probabilities)\n",
    "                    # retrieve parents\n",
    "                    parent_a, parent_b = population[parent_indexes[0]], population[parent_indexes[1]]\n",
    "                    # perform cross-over\n",
    "                    child_a, child_b = self.cross_over(parent_a, parent_b)\n",
    "                    children.append(child_a)\n",
    "                    children.append(child_b)\n",
    "            \n",
    "            population.extend(children)\n",
    "            \n",
    "            ## mutation\n",
    "            # calculate values of function to optimise\n",
    "            proximities = np.array([self.evaluate_features(features) for features in population])\n",
    "            # and transform them into probabilities\n",
    "            probabilities = self.proximities2probabilities(proximities)\n",
    "            mutated = []\n",
    "            # try to perform mutation population_size times\n",
    "            for _ in range(population_size):\n",
    "                # if mutation chance is successful\n",
    "                if random.random() < mutation_prob:\n",
    "                    # select one representative to be mutated\n",
    "                    index = np.random.choice(len(population), 1, False, probabilities)\n",
    "                    # retrieve representative\n",
    "                    representative = population[index[0]]\n",
    "                    # perform mutation\n",
    "                    mutant = self.mutate(representative)\n",
    "                    mutated.append(mutant)\n",
    "                    \n",
    "            population.extend(mutated)\n",
    "    \n",
    "            ## selection\n",
    "            # calculate values of function to optimise\n",
    "            proximities = np.array([self.evaluate_features(features) for features in population])\n",
    "            # and transform them into probabilities\n",
    "            probabilities = self.proximities2probabilities(proximities)\n",
    "            # evaluate, how much is 10% of population_size\n",
    "            top_10_best_len = int(0.1 * population_size)\n",
    "            # get indexes of models from population sorted by values of optimised function\n",
    "            s = np.argsort(proximities)\n",
    "            # top 10% of population_size models are advancing to new generation by default\n",
    "            new_population = [population[idx] for idx in s[:top_10_best_len]]\n",
    "            # rest indexes select randomly from current population\n",
    "            pr = probabilities[s[top_10_best_len:]]\n",
    "            rest_indexes = np.random.choice(s[top_10_best_len:], population_size - top_10_best_len, False, pr / pr.sum())\n",
    "            # fill new_population up to population_size elements\n",
    "            new_population.extend([population[idx] for idx in rest_indexes])\n",
    "            # replace current population with new one\n",
    "            population = new_population\n",
    "    \n",
    "        return population\n",
    "\n",
    "    def predict(self, X, features):\n",
    "        X = self.stdsc.transform(X)\n",
    "        model = self.get_best_model(features)\n",
    "        \n",
    "        probabilities_of_label_1 = model.predict_proba(X[:, features])[:, 1]\n",
    "        s = np.argsort(probabilities_of_label_1)\n",
    "        \n",
    "        return s[-1000:]\n",
    "\n",
    "    @staticmethod\n",
    "    def proximities2probabilities(proximities):\n",
    "        proximities = np.clip(proximities, -50, 50)\n",
    "        mods = np.exp(-proximities)\n",
    "    \n",
    "        return mods / mods.sum()"
   ]
  },
  {
   "cell_type": "code",
   "execution_count": 18,
   "id": "14a14aae-c5f3-4450-a3f6-cc902df5b3cf",
   "metadata": {},
   "outputs": [
    {
     "name": "stderr",
     "output_type": "stream",
     "text": [
      "100%|█████████████████████████████████████████████████████████████████████████████████████████████████████████████████████████████████████████████████████████████████████████████████████████████████████| 100/100 [03:29<00:00,  2.09s/it]\n"
     ]
    }
   ],
   "source": [
    "ga = GA(X_train, y_train)\n",
    "population = ga.run()"
   ]
  },
  {
   "cell_type": "code",
   "execution_count": 19,
   "id": "924e8789-060a-4379-a195-910912c831e0",
   "metadata": {},
   "outputs": [
    {
     "data": {
      "text/plain": [
       "array([8], dtype=int32)"
      ]
     },
     "execution_count": 19,
     "metadata": {},
     "output_type": "execute_result"
    }
   ],
   "source": [
    "population[0]"
   ]
  },
  {
   "cell_type": "code",
   "execution_count": 20,
   "id": "1d73a401-c6c9-4d49-aad8-f96c82518afd",
   "metadata": {},
   "outputs": [],
   "source": [
    "pd.DataFrame(population[0]).to_csv(\"solutions/ga_features_selected.csv\")"
   ]
  },
  {
   "cell_type": "code",
   "execution_count": 21,
   "id": "8ebb6f61-49d3-47da-a417-8d538f91033b",
   "metadata": {},
   "outputs": [],
   "source": [
    "ga_best_model = ga.get_best_model(population[0])"
   ]
  },
  {
   "cell_type": "code",
   "execution_count": 22,
   "id": "70238c2c-531e-4615-8f81-505a64a0d49c",
   "metadata": {},
   "outputs": [
    {
     "data": {
      "text/plain": [
       "np.int64(7210)"
      ]
     },
     "execution_count": 22,
     "metadata": {},
     "output_type": "execute_result"
    }
   ],
   "source": [
    "calculate_reward(ga_best_model, X_train_scaled[:, population[0]], y_train)"
   ]
  },
  {
   "cell_type": "code",
   "execution_count": 23,
   "id": "9e04d209-f53f-4e2c-8c9b-680f1580f917",
   "metadata": {},
   "outputs": [
    {
     "data": {
      "text/plain": [
       "0.653"
      ]
     },
     "execution_count": 23,
     "metadata": {},
     "output_type": "execute_result"
    }
   ],
   "source": [
    "accuracy_score(y_train, ga_best_model.predict(X_train_scaled[:, population[0]]))"
   ]
  },
  {
   "cell_type": "code",
   "execution_count": 24,
   "id": "8a326169-ad97-4143-99c1-963331f3e02d",
   "metadata": {},
   "outputs": [
    {
     "data": {
      "text/plain": [
       "0.6614963503649635"
      ]
     },
     "execution_count": 24,
     "metadata": {},
     "output_type": "execute_result"
    }
   ],
   "source": [
    "precision_score(y_train, ga_best_model.predict(X_train_scaled[:, population[0]]))"
   ]
  },
  {
   "cell_type": "code",
   "execution_count": 25,
   "id": "9edf88e0-f72b-4fcd-b7f2-931c8421a1b0",
   "metadata": {},
   "outputs": [
    {
     "data": {
      "text/plain": [
       "0.5935325419566108"
      ]
     },
     "execution_count": 25,
     "metadata": {},
     "output_type": "execute_result"
    }
   ],
   "source": [
    "recall_score(y_train, ga_best_model.predict(X_train_scaled[:, population[0]]))"
   ]
  },
  {
   "cell_type": "code",
   "execution_count": 26,
   "id": "5e11850d-cd46-40c6-ae5f-e9b0021c52db",
   "metadata": {},
   "outputs": [
    {
     "data": {
      "text/plain": [
       "array([4230, 3567, 3351,  200, 1229, 1200,  977, 4243, 3317, 2406])"
      ]
     },
     "execution_count": 26,
     "metadata": {},
     "output_type": "execute_result"
    }
   ],
   "source": [
    "ga_X_test_pred = ga.predict(X_test, population[0])\n",
    "ga_X_test_pred[:10]"
   ]
  },
  {
   "cell_type": "code",
   "execution_count": 27,
   "id": "463dfd20-673d-4cf7-bb04-dec255e7bd95",
   "metadata": {},
   "outputs": [],
   "source": [
    "pd.DataFrame(ga_X_test_pred).to_csv(\"solutions/ga_observations_predicted.csv\")"
   ]
  }
 ],
 "metadata": {
  "kernelspec": {
   "display_name": "Python 3 (ipykernel)",
   "language": "python",
   "name": "python3"
  },
  "language_info": {
   "codemirror_mode": {
    "name": "ipython",
    "version": 3
   },
   "file_extension": ".py",
   "mimetype": "text/x-python",
   "name": "python",
   "nbconvert_exporter": "python",
   "pygments_lexer": "ipython3",
   "version": "3.13.3"
  }
 },
 "nbformat": 4,
 "nbformat_minor": 5
}
